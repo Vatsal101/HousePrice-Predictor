{
 "cells": [
  {
   "cell_type": "code",
   "execution_count": 51,
   "id": "7164c78b-27fe-4603-b244-2dae13c29c7d",
   "metadata": {},
   "outputs": [],
   "source": [
    "import seaborn as sns\n",
    "import pandas as pd\n",
    "import matplotlib.pyplot as plt\n",
    "import numpy as np\n",
    "from scipy.stats import norm\n",
    "from scipy import stats\n",
    "import warnings\n",
    "warnings.filterwarnings('ignore')\n",
    "%matplotlib inline\n",
    "from scipy.stats import norm\n",
    "from sklearn.preprocessing import StandardScaler\n",
    "from sklearn.model_selection import train_test_split\n",
    "from sklearn.linear_model import LinearRegression\n",
    "from sklearn.metrics import mean_absolute_error, mean_squared_error"
   ]
  },
  {
   "cell_type": "code",
   "execution_count": 52,
   "id": "506d4381-e322-4cf9-9304-1dc2d0f474d5",
   "metadata": {},
   "outputs": [
    {
     "name": "stdout",
     "output_type": "stream",
     "text": [
      "     Unnamed: 0    Id  OverallQual  YearBuilt  TotalBsmtSF  GrLivArea  \\\n",
      "660         660  2121            4       1946          0.0        896   \n",
      "\n",
      "     FullBath  GarageCars  \n",
      "660         1         1.0  \n"
     ]
    }
   ],
   "source": [
    "df = pd.read_csv(\"data/house-prices-advanced-regression-techniques/new_train.csv\")\n",
    "\n",
    "df_t = pd.read_csv(\"data/house-prices-advanced-regression-techniques/new_test.csv\")\n",
    "df_t = df_t.fillna(0)\n",
    "df_te = df_t.drop(columns=df_t.columns[0], axis=1)\n",
    "df_te = df_te.drop(columns=df_te.columns[0], axis=1)\n",
    "print(df_t.loc[[660]])\n",
    "\n",
    "df_np = df.to_numpy()\n",
    "df_test = df_te.to_numpy()\n"
   ]
  },
  {
   "cell_type": "code",
   "execution_count": 53,
   "id": "f0a04466-91ed-46fa-b260-915d1e1e046b",
   "metadata": {
    "tags": []
   },
   "outputs": [],
   "source": [
    "\n",
    "x , y = df_np[:, 1:7], df_np[:, -1]\n",
    "\n",
    "#local training and testing data\n",
    "x_train, x_test, y_train, y_test = train_test_split(x, y, test_size=.3)\n"
   ]
  },
  {
   "cell_type": "code",
   "execution_count": 55,
   "id": "bd81d7a0-3fe3-4864-9d4c-d94eaf467801",
   "metadata": {},
   "outputs": [
    {
     "name": "stdout",
     "output_type": "stream",
     "text": [
      "False\n"
     ]
    },
    {
     "data": {
      "text/plain": [
       "True"
      ]
     },
     "execution_count": 55,
     "metadata": {},
     "output_type": "execute_result"
    }
   ],
   "source": [
    "print(np.any(np.isnan(df_test)))\n",
    "\n",
    "np.all(np.isfinite(df_test))\n"
   ]
  },
  {
   "cell_type": "markdown",
   "id": "b8294122-0b4c-4646-bf82-b241ad54f1e7",
   "metadata": {},
   "source": [
    "## Model Being trained on the train part of the Local dataset"
   ]
  },
  {
   "cell_type": "code",
   "execution_count": 56,
   "id": "57227beb-0822-49c6-938a-4e484cd63843",
   "metadata": {
    "tags": []
   },
   "outputs": [],
   "source": [
    "#Getting the model from scikit and training it on the x_train model\n",
    "\n",
    "#Training the model on the training data\n",
    "\n",
    "model = LinearRegression()\n",
    "mult_reggresion = model.fit(x_train, y_train)\n",
    "\n",
    "local_pred = mult_reggresion.predict(x_test)"
   ]
  },
  {
   "cell_type": "code",
   "execution_count": 57,
   "id": "bf181d06-4f1c-45dc-97fa-5532cad5d1c2",
   "metadata": {
    "tags": []
   },
   "outputs": [],
   "source": [
    "# Testing the data on the testing data set\n",
    "#predictions = mult_reggresion.predict(x_test)"
   ]
  },
  {
   "cell_type": "code",
   "execution_count": 58,
   "id": "f9555da0-9616-488d-ae29-c7f3de856daf",
   "metadata": {
    "tags": []
   },
   "outputs": [
    {
     "name": "stdout",
     "output_type": "stream",
     "text": [
      "5.837284635825754\n",
      "[ 0.09749294  0.00247847  0.00017799  0.00029228 -0.03260534  0.0727183 ]\n"
     ]
    }
   ],
   "source": [
    "print(mult_reggresion.intercept_)\n",
    "print(mult_reggresion.coef_)"
   ]
  },
  {
   "cell_type": "markdown",
   "id": "11ef8bc1-fce6-47be-82a4-27dbfa7d3152",
   "metadata": {},
   "source": [
    "## Accuracy from testing on the local data Model\n",
    "Very important"
   ]
  },
  {
   "cell_type": "code",
   "execution_count": 59,
   "id": "cb73e02f-d940-417c-a148-f3a18c7bb518",
   "metadata": {},
   "outputs": [
    {
     "name": "stdout",
     "output_type": "stream",
     "text": [
      "Results from local training\n",
      "R2 loss value  0.8884669830380553\n",
      "MAE loss value  0.10323766139931462\n",
      "RMSE loss value  0.13895490452913306\n"
     ]
    }
   ],
   "source": [
    "r2 = model.score(x_test, y_test)\n",
    "MAE = mean_absolute_error(y_test, local_pred)\n",
    "RMSE = np.sqrt(mean_squared_error(y_test, local_pred))\n",
    "\n",
    "print(\"Results from local training\")\n",
    "print(\"R2 loss value \", r2)\n",
    "print(\"MAE loss value \", MAE)\n",
    "print(\"RMSE loss value \", RMSE)\n",
    "\n"
   ]
  },
  {
   "cell_type": "markdown",
   "id": "28d8a0e3-aa85-4571-bf55-e531b0e60591",
   "metadata": {},
   "source": [
    "## Model being using on the testing dataset"
   ]
  },
  {
   "cell_type": "code",
   "execution_count": 60,
   "id": "ebfcb351-dd2a-4e82-bf22-6f2394a622b1",
   "metadata": {
    "tags": []
   },
   "outputs": [
    {
     "data": {
      "text/plain": [
       "array([[5.000e+00, 1.961e+03, 8.820e+02, 8.960e+02, 1.000e+00, 1.000e+00],\n",
       "       [6.000e+00, 1.958e+03, 1.329e+03, 1.329e+03, 1.000e+00, 1.000e+00],\n",
       "       [5.000e+00, 1.997e+03, 9.280e+02, 1.629e+03, 2.000e+00, 2.000e+00],\n",
       "       ...,\n",
       "       [5.000e+00, 1.960e+03, 1.224e+03, 1.224e+03, 1.000e+00, 2.000e+00],\n",
       "       [5.000e+00, 1.992e+03, 9.120e+02, 9.700e+02, 1.000e+00, 0.000e+00],\n",
       "       [7.000e+00, 1.993e+03, 9.960e+02, 2.000e+03, 2.000e+00, 3.000e+00]])"
      ]
     },
     "execution_count": 60,
     "metadata": {},
     "output_type": "execute_result"
    }
   ],
   "source": [
    "df_test"
   ]
  },
  {
   "cell_type": "code",
   "execution_count": 61,
   "id": "8ff8578a-da6a-4729-9307-155fd40959b8",
   "metadata": {},
   "outputs": [],
   "source": [
    "predictions = model.predict(df_test)"
   ]
  },
  {
   "cell_type": "code",
   "execution_count": 62,
   "id": "77831dc3-edae-4f65-b812-7d1386f50562",
   "metadata": {},
   "outputs": [
    {
     "data": {
      "text/plain": [
       "array([11.64400906, 11.94018467, 11.99577641, ..., 11.87098877,\n",
       "       11.67509172, 12.37410616])"
      ]
     },
     "execution_count": 62,
     "metadata": {},
     "output_type": "execute_result"
    }
   ],
   "source": [
    "predictions"
   ]
  },
  {
   "cell_type": "markdown",
   "id": "bb37e898-67ec-409a-bfbe-7fd80051ea35",
   "metadata": {
    "tags": []
   },
   "source": [
    "### predictions from testing dataset "
   ]
  },
  {
   "cell_type": "code",
   "execution_count": 63,
   "id": "5eae3cef-1245-4f94-b177-cfdb15a29f6d",
   "metadata": {
    "collapsed": true,
    "jupyter": {
     "outputs_hidden": true
    },
    "tags": []
   },
   "outputs": [
    {
     "data": {
      "text/html": [
       "<div>\n",
       "<style scoped>\n",
       "    .dataframe tbody tr th:only-of-type {\n",
       "        vertical-align: middle;\n",
       "    }\n",
       "\n",
       "    .dataframe tbody tr th {\n",
       "        vertical-align: top;\n",
       "    }\n",
       "\n",
       "    .dataframe thead th {\n",
       "        text-align: right;\n",
       "    }\n",
       "</style>\n",
       "<table border=\"1\" class=\"dataframe\">\n",
       "  <thead>\n",
       "    <tr style=\"text-align: right;\">\n",
       "      <th></th>\n",
       "      <th>Id</th>\n",
       "      <th>SalePrice</th>\n",
       "    </tr>\n",
       "  </thead>\n",
       "  <tbody>\n",
       "    <tr>\n",
       "      <th>0</th>\n",
       "      <td>1461</td>\n",
       "      <td>114006</td>\n",
       "    </tr>\n",
       "    <tr>\n",
       "      <th>1</th>\n",
       "      <td>1462</td>\n",
       "      <td>153304</td>\n",
       "    </tr>\n",
       "    <tr>\n",
       "      <th>2</th>\n",
       "      <td>1463</td>\n",
       "      <td>162068</td>\n",
       "    </tr>\n",
       "    <tr>\n",
       "      <th>3</th>\n",
       "      <td>1464</td>\n",
       "      <td>177741</td>\n",
       "    </tr>\n",
       "    <tr>\n",
       "      <th>4</th>\n",
       "      <td>1465</td>\n",
       "      <td>206180</td>\n",
       "    </tr>\n",
       "    <tr>\n",
       "      <th>...</th>\n",
       "      <td>...</td>\n",
       "      <td>...</td>\n",
       "    </tr>\n",
       "    <tr>\n",
       "      <th>1454</th>\n",
       "      <td>2915</td>\n",
       "      <td>98084</td>\n",
       "    </tr>\n",
       "    <tr>\n",
       "      <th>1455</th>\n",
       "      <td>2916</td>\n",
       "      <td>105483</td>\n",
       "    </tr>\n",
       "    <tr>\n",
       "      <th>1456</th>\n",
       "      <td>2917</td>\n",
       "      <td>143055</td>\n",
       "    </tr>\n",
       "    <tr>\n",
       "      <th>1457</th>\n",
       "      <td>2918</td>\n",
       "      <td>117605</td>\n",
       "    </tr>\n",
       "    <tr>\n",
       "      <th>1458</th>\n",
       "      <td>2919</td>\n",
       "      <td>236595</td>\n",
       "    </tr>\n",
       "  </tbody>\n",
       "</table>\n",
       "<p>1459 rows × 2 columns</p>\n",
       "</div>"
      ],
      "text/plain": [
       "        Id  SalePrice\n",
       "0     1461     114006\n",
       "1     1462     153304\n",
       "2     1463     162068\n",
       "3     1464     177741\n",
       "4     1465     206180\n",
       "...    ...        ...\n",
       "1454  2915      98084\n",
       "1455  2916     105483\n",
       "1456  2917     143055\n",
       "1457  2918     117605\n",
       "1458  2919     236595\n",
       "\n",
       "[1459 rows x 2 columns]"
      ]
     },
     "execution_count": 63,
     "metadata": {},
     "output_type": "execute_result"
    }
   ],
   "source": [
    "predictions_df = pd.DataFrame({\"Id\": df_t[df_t.columns[1]],\n",
    "                               'SalePrice':(np.exp(predictions)).astype(int)})\n",
    "\n",
    "predictions_df\n"
   ]
  },
  {
   "cell_type": "code",
   "execution_count": 67,
   "id": "df294c50-0247-4ea9-a791-fb533b07ad16",
   "metadata": {},
   "outputs": [],
   "source": [
    "predictions_df.to_csv('data/house-prices-advanced-regression-techniques/submission.csv')"
   ]
  },
  {
   "cell_type": "code",
   "execution_count": null,
   "id": "de0458b5-360d-4c57-b80e-cd8a8132e732",
   "metadata": {},
   "outputs": [],
   "source": []
  },
  {
   "cell_type": "code",
   "execution_count": null,
   "id": "c651eb98-7d29-4409-aa17-5a63aca7dd58",
   "metadata": {},
   "outputs": [],
   "source": []
  },
  {
   "cell_type": "code",
   "execution_count": null,
   "id": "3b5d4a73-9ebd-467f-a853-7cb2272febb8",
   "metadata": {},
   "outputs": [],
   "source": []
  },
  {
   "cell_type": "code",
   "execution_count": null,
   "id": "6b82b421-0840-4b95-b2b3-6cf1c0ce4bbf",
   "metadata": {},
   "outputs": [],
   "source": []
  },
  {
   "cell_type": "code",
   "execution_count": null,
   "id": "469a2be7-4b20-4f8f-8128-540ae12715ad",
   "metadata": {},
   "outputs": [],
   "source": []
  },
  {
   "cell_type": "code",
   "execution_count": null,
   "id": "b820400d-70c5-41b0-8cb1-309d6e475d3b",
   "metadata": {},
   "outputs": [],
   "source": []
  },
  {
   "cell_type": "code",
   "execution_count": null,
   "id": "5c8a8ee4-4978-4ed2-b71e-55cc611e6409",
   "metadata": {},
   "outputs": [],
   "source": []
  },
  {
   "cell_type": "code",
   "execution_count": null,
   "id": "53a68a6e-0201-400c-9477-6494a4ee1093",
   "metadata": {},
   "outputs": [],
   "source": []
  },
  {
   "cell_type": "code",
   "execution_count": null,
   "id": "f91ca735-31cf-4614-9991-60bb43f1b7d9",
   "metadata": {},
   "outputs": [],
   "source": []
  },
  {
   "cell_type": "code",
   "execution_count": null,
   "id": "9dfcd04a-8ccc-46ee-8b65-9b4e0ad8e746",
   "metadata": {},
   "outputs": [],
   "source": []
  },
  {
   "cell_type": "code",
   "execution_count": null,
   "id": "9d648a74-78f8-4918-92f8-49b9884d9df3",
   "metadata": {},
   "outputs": [],
   "source": []
  },
  {
   "cell_type": "code",
   "execution_count": null,
   "id": "7e28c9ed-d44b-4a5e-85d1-2edacf92d5be",
   "metadata": {},
   "outputs": [],
   "source": []
  },
  {
   "cell_type": "code",
   "execution_count": null,
   "id": "1a3dafbe-fdb4-438a-b4f1-65e06d3cb11d",
   "metadata": {},
   "outputs": [],
   "source": []
  },
  {
   "cell_type": "code",
   "execution_count": null,
   "id": "1a97fdff-2999-4a21-a17d-a2a061de19b1",
   "metadata": {},
   "outputs": [],
   "source": []
  },
  {
   "cell_type": "code",
   "execution_count": null,
   "id": "f5f725d5-49ba-430a-af0a-d62e5ced1414",
   "metadata": {},
   "outputs": [],
   "source": []
  },
  {
   "cell_type": "code",
   "execution_count": null,
   "id": "36935082-b7dc-40df-99be-f0ce3e88f8d7",
   "metadata": {},
   "outputs": [],
   "source": []
  },
  {
   "cell_type": "code",
   "execution_count": null,
   "id": "e64d93cb-5352-4830-8050-a464f967bb79",
   "metadata": {},
   "outputs": [],
   "source": []
  },
  {
   "cell_type": "code",
   "execution_count": null,
   "id": "dc3b088c-bdd5-49ef-b66a-6e7dfea07651",
   "metadata": {},
   "outputs": [],
   "source": []
  },
  {
   "cell_type": "code",
   "execution_count": null,
   "id": "ac7a233b-7ef3-4463-9719-2e6f816a3694",
   "metadata": {},
   "outputs": [],
   "source": []
  },
  {
   "cell_type": "code",
   "execution_count": null,
   "id": "a5a7d143-3da7-4077-8d46-b9db84bdeba0",
   "metadata": {},
   "outputs": [],
   "source": []
  },
  {
   "cell_type": "code",
   "execution_count": null,
   "id": "6882c9f2-6041-4724-8ef7-7aab49b3c120",
   "metadata": {},
   "outputs": [],
   "source": []
  },
  {
   "cell_type": "code",
   "execution_count": null,
   "id": "77f9ae32-6040-4566-a8bf-0b8c72dfa10a",
   "metadata": {},
   "outputs": [],
   "source": []
  }
 ],
 "metadata": {
  "kernelspec": {
   "display_name": "houseprice",
   "language": "python",
   "name": "houseprice"
  },
  "language_info": {
   "codemirror_mode": {
    "name": "ipython",
    "version": 3
   },
   "file_extension": ".py",
   "mimetype": "text/x-python",
   "name": "python",
   "nbconvert_exporter": "python",
   "pygments_lexer": "ipython3",
   "version": "3.7.12"
  }
 },
 "nbformat": 4,
 "nbformat_minor": 5
}

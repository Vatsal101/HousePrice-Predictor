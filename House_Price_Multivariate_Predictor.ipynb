{
 "cells": [
  {
   "cell_type": "code",
   "execution_count": 1,
   "id": "7164c78b-27fe-4603-b244-2dae13c29c7d",
   "metadata": {},
   "outputs": [],
   "source": [
    "import seaborn as sns\n",
    "import pandas as pd\n",
    "import matplotlib.pyplot as plt\n",
    "import numpy as np\n",
    "from scipy.stats import norm\n",
    "from scipy import stats\n",
    "import warnings\n",
    "warnings.filterwarnings('ignore')\n",
    "%matplotlib inline\n",
    "from scipy.stats import norm\n",
    "from sklearn.preprocessing import StandardScaler\n",
    "from sklearn.linear_model import LinearRegression\n",
    "from sklearn.metrics import mean_absolute_error, mean_squared_error"
   ]
  },
  {
   "cell_type": "code",
   "execution_count": 12,
   "id": "506d4381-e322-4cf9-9304-1dc2d0f474d5",
   "metadata": {},
   "outputs": [
    {
     "data": {
      "text/plain": [
       "(1457, 8)"
      ]
     },
     "execution_count": 12,
     "metadata": {},
     "output_type": "execute_result"
    }
   ],
   "source": [
    "df = pd.read_csv(\"data/house-prices-advanced-regression-techniques/new_train.csv\")\n",
    "\n",
    "df_num = df.to_numpy()\n",
    "df_num.shape"
   ]
  },
  {
   "cell_type": "code",
   "execution_count": 15,
   "id": "f0a04466-91ed-46fa-b260-915d1e1e046b",
   "metadata": {},
   "outputs": [
    {
     "data": {
      "text/plain": [
       "((1457, 6), (1457,))"
      ]
     },
     "execution_count": 15,
     "metadata": {},
     "output_type": "execute_result"
    }
   ],
   "source": [
    "x_train, y_train = df_num[:, 1:7], df_num[:, -1]\n",
    "x_train.shape, y_train.shape"
   ]
  },
  {
   "cell_type": "code",
   "execution_count": 16,
   "id": "27bc3178-e063-49af-8474-35a0c7acc06d",
   "metadata": {},
   "outputs": [
    {
     "data": {
      "text/plain": [
       "array([[7.00000000e+00, 2.00300000e+03, 6.75227038e+00, 7.44424865e+00,\n",
       "        2.00000000e+00, 2.00000000e+00],\n",
       "       [6.00000000e+00, 1.97600000e+03, 7.14045304e+00, 7.14045304e+00,\n",
       "        2.00000000e+00, 2.00000000e+00],\n",
       "       [7.00000000e+00, 2.00100000e+03, 6.82437367e+00, 7.48773376e+00,\n",
       "        2.00000000e+00, 2.00000000e+00],\n",
       "       ...,\n",
       "       [7.00000000e+00, 1.94100000e+03, 7.04925484e+00, 7.75790621e+00,\n",
       "        2.00000000e+00, 1.00000000e+00],\n",
       "       [5.00000000e+00, 1.95000000e+03, 6.98286275e+00, 6.98286275e+00,\n",
       "        1.00000000e+00, 1.00000000e+00],\n",
       "       [5.00000000e+00, 1.96500000e+03, 7.13568735e+00, 7.13568735e+00,\n",
       "        1.00000000e+00, 1.00000000e+00]])"
      ]
     },
     "execution_count": 16,
     "metadata": {},
     "output_type": "execute_result"
    }
   ],
   "source": [
    "x_train"
   ]
  },
  {
   "cell_type": "code",
   "execution_count": 18,
   "id": "57227beb-0822-49c6-938a-4e484cd63843",
   "metadata": {},
   "outputs": [
    {
     "name": "stdout",
     "output_type": "stream",
     "text": [
      "2.0907380771286306\n",
      "[ 0.1015836   0.00275067  0.03585856  0.48815022 -0.02779255  0.08301202]\n"
     ]
    }
   ],
   "source": [
    "mult_reggresion = LinearRegression().fit(x_train, y_train)\n",
    "predictions = mult_reggresion.predict(x_train)\n",
    "\n",
    "\n",
    "print(mult_reggresion.intercept_)\n",
    "print(mult_reggresion.coef_)"
   ]
  },
  {
   "cell_type": "code",
   "execution_count": 20,
   "id": "cb73e02f-d940-417c-a148-f3a18c7bb518",
   "metadata": {},
   "outputs": [
    {
     "data": {
      "text/plain": [
       "(0.12343343708152864, 0.02746830768403977)"
      ]
     },
     "execution_count": 20,
     "metadata": {},
     "output_type": "execute_result"
    }
   ],
   "source": [
    "mean_absolute_error(predictions, y_train), mean_squared_error(predictions, y_train)"
   ]
  },
  {
   "cell_type": "code",
   "execution_count": 24,
   "id": "17406ff9-90e5-47b9-b5d6-8ead794fe98b",
   "metadata": {},
   "outputs": [
    {
     "data": {
      "text/html": [
       "<div>\n",
       "<style scoped>\n",
       "    .dataframe tbody tr th:only-of-type {\n",
       "        vertical-align: middle;\n",
       "    }\n",
       "\n",
       "    .dataframe tbody tr th {\n",
       "        vertical-align: top;\n",
       "    }\n",
       "\n",
       "    .dataframe thead th {\n",
       "        text-align: right;\n",
       "    }\n",
       "</style>\n",
       "<table border=\"1\" class=\"dataframe\">\n",
       "  <thead>\n",
       "    <tr style=\"text-align: right;\">\n",
       "      <th></th>\n",
       "      <th>Id</th>\n",
       "      <th>OverallQual</th>\n",
       "      <th>YearBuilt</th>\n",
       "      <th>TotalBsmtSF</th>\n",
       "      <th>GrLivArea</th>\n",
       "      <th>FullBath</th>\n",
       "      <th>GarageCars</th>\n",
       "      <th>SalePrice</th>\n",
       "      <th>Sklearn SalePrice</th>\n",
       "    </tr>\n",
       "  </thead>\n",
       "  <tbody>\n",
       "    <tr>\n",
       "      <th>0</th>\n",
       "      <td>0</td>\n",
       "      <td>7</td>\n",
       "      <td>2003</td>\n",
       "      <td>6.752270</td>\n",
       "      <td>7.444249</td>\n",
       "      <td>2</td>\n",
       "      <td>2</td>\n",
       "      <td>12.247694</td>\n",
       "      <td>12.297902</td>\n",
       "    </tr>\n",
       "    <tr>\n",
       "      <th>1</th>\n",
       "      <td>1</td>\n",
       "      <td>6</td>\n",
       "      <td>1976</td>\n",
       "      <td>7.140453</td>\n",
       "      <td>7.140453</td>\n",
       "      <td>2</td>\n",
       "      <td>2</td>\n",
       "      <td>12.109011</td>\n",
       "      <td>11.987672</td>\n",
       "    </tr>\n",
       "    <tr>\n",
       "      <th>2</th>\n",
       "      <td>2</td>\n",
       "      <td>7</td>\n",
       "      <td>2001</td>\n",
       "      <td>6.824374</td>\n",
       "      <td>7.487734</td>\n",
       "      <td>2</td>\n",
       "      <td>2</td>\n",
       "      <td>12.317167</td>\n",
       "      <td>12.316214</td>\n",
       "    </tr>\n",
       "    <tr>\n",
       "      <th>3</th>\n",
       "      <td>3</td>\n",
       "      <td>7</td>\n",
       "      <td>1915</td>\n",
       "      <td>6.628041</td>\n",
       "      <td>7.448334</td>\n",
       "      <td>1</td>\n",
       "      <td>3</td>\n",
       "      <td>11.849398</td>\n",
       "      <td>12.164187</td>\n",
       "    </tr>\n",
       "    <tr>\n",
       "      <th>4</th>\n",
       "      <td>4</td>\n",
       "      <td>8</td>\n",
       "      <td>2000</td>\n",
       "      <td>7.043160</td>\n",
       "      <td>7.695303</td>\n",
       "      <td>2</td>\n",
       "      <td>3</td>\n",
       "      <td>12.429216</td>\n",
       "      <td>12.607229</td>\n",
       "    </tr>\n",
       "    <tr>\n",
       "      <th>...</th>\n",
       "      <td>...</td>\n",
       "      <td>...</td>\n",
       "      <td>...</td>\n",
       "      <td>...</td>\n",
       "      <td>...</td>\n",
       "      <td>...</td>\n",
       "      <td>...</td>\n",
       "      <td>...</td>\n",
       "      <td>...</td>\n",
       "    </tr>\n",
       "    <tr>\n",
       "      <th>1452</th>\n",
       "      <td>1455</td>\n",
       "      <td>6</td>\n",
       "      <td>1999</td>\n",
       "      <td>6.859615</td>\n",
       "      <td>7.406711</td>\n",
       "      <td>2</td>\n",
       "      <td>2</td>\n",
       "      <td>12.072541</td>\n",
       "      <td>12.170841</td>\n",
       "    </tr>\n",
       "    <tr>\n",
       "      <th>1453</th>\n",
       "      <td>1456</td>\n",
       "      <td>6</td>\n",
       "      <td>1978</td>\n",
       "      <td>7.340836</td>\n",
       "      <td>7.636752</td>\n",
       "      <td>2</td>\n",
       "      <td>2</td>\n",
       "      <td>12.254863</td>\n",
       "      <td>12.242627</td>\n",
       "    </tr>\n",
       "    <tr>\n",
       "      <th>1454</th>\n",
       "      <td>1457</td>\n",
       "      <td>7</td>\n",
       "      <td>1941</td>\n",
       "      <td>7.049255</td>\n",
       "      <td>7.757906</td>\n",
       "      <td>2</td>\n",
       "      <td>1</td>\n",
       "      <td>12.493130</td>\n",
       "      <td>12.208110</td>\n",
       "    </tr>\n",
       "    <tr>\n",
       "      <th>1455</th>\n",
       "      <td>1458</td>\n",
       "      <td>5</td>\n",
       "      <td>1950</td>\n",
       "      <td>6.982863</td>\n",
       "      <td>6.982863</td>\n",
       "      <td>1</td>\n",
       "      <td>1</td>\n",
       "      <td>11.864462</td>\n",
       "      <td>11.676773</td>\n",
       "    </tr>\n",
       "    <tr>\n",
       "      <th>1456</th>\n",
       "      <td>1459</td>\n",
       "      <td>5</td>\n",
       "      <td>1965</td>\n",
       "      <td>7.135687</td>\n",
       "      <td>7.135687</td>\n",
       "      <td>1</td>\n",
       "      <td>1</td>\n",
       "      <td>11.901583</td>\n",
       "      <td>11.798114</td>\n",
       "    </tr>\n",
       "  </tbody>\n",
       "</table>\n",
       "<p>1457 rows × 9 columns</p>\n",
       "</div>"
      ],
      "text/plain": [
       "        Id  OverallQual  YearBuilt  TotalBsmtSF  GrLivArea  FullBath  \\\n",
       "0        0            7       2003     6.752270   7.444249         2   \n",
       "1        1            6       1976     7.140453   7.140453         2   \n",
       "2        2            7       2001     6.824374   7.487734         2   \n",
       "3        3            7       1915     6.628041   7.448334         1   \n",
       "4        4            8       2000     7.043160   7.695303         2   \n",
       "...    ...          ...        ...          ...        ...       ...   \n",
       "1452  1455            6       1999     6.859615   7.406711         2   \n",
       "1453  1456            6       1978     7.340836   7.636752         2   \n",
       "1454  1457            7       1941     7.049255   7.757906         2   \n",
       "1455  1458            5       1950     6.982863   6.982863         1   \n",
       "1456  1459            5       1965     7.135687   7.135687         1   \n",
       "\n",
       "      GarageCars  SalePrice  Sklearn SalePrice  \n",
       "0              2  12.247694          12.297902  \n",
       "1              2  12.109011          11.987672  \n",
       "2              2  12.317167          12.316214  \n",
       "3              3  11.849398          12.164187  \n",
       "4              3  12.429216          12.607229  \n",
       "...          ...        ...                ...  \n",
       "1452           2  12.072541          12.170841  \n",
       "1453           2  12.254863          12.242627  \n",
       "1454           1  12.493130          12.208110  \n",
       "1455           1  11.864462          11.676773  \n",
       "1456           1  11.901583          11.798114  \n",
       "\n",
       "[1457 rows x 9 columns]"
      ]
     },
     "execution_count": 24,
     "metadata": {},
     "output_type": "execute_result"
    }
   ],
   "source": [
    "predictions_df = pd.DataFrame({\"Id\": df[df.columns[0]],\n",
    "                               'OverallQual': df['OverallQual'],\n",
    "                               'YearBuilt': df['YearBuilt'],\n",
    "                               'TotalBsmtSF': df['TotalBsmtSF'],\n",
    "                               'GrLivArea': df['GrLivArea'],\n",
    "                               'FullBath':df['FullBath'],\n",
    "                               'GarageCars':df['GarageCars'],\n",
    "                               'SalePrice':df['SalePrice'],\n",
    "                               'Sklearn SalePrice':predictions})\n",
    "\n",
    "predictions_df"
   ]
  },
  {
   "cell_type": "code",
   "execution_count": null,
   "id": "df294c50-0247-4ea9-a791-fb533b07ad16",
   "metadata": {},
   "outputs": [],
   "source": []
  },
  {
   "cell_type": "code",
   "execution_count": null,
   "id": "de0458b5-360d-4c57-b80e-cd8a8132e732",
   "metadata": {},
   "outputs": [],
   "source": []
  },
  {
   "cell_type": "code",
   "execution_count": null,
   "id": "c651eb98-7d29-4409-aa17-5a63aca7dd58",
   "metadata": {},
   "outputs": [],
   "source": []
  },
  {
   "cell_type": "code",
   "execution_count": null,
   "id": "3b5d4a73-9ebd-467f-a853-7cb2272febb8",
   "metadata": {},
   "outputs": [],
   "source": []
  },
  {
   "cell_type": "code",
   "execution_count": null,
   "id": "6b82b421-0840-4b95-b2b3-6cf1c0ce4bbf",
   "metadata": {},
   "outputs": [],
   "source": []
  },
  {
   "cell_type": "code",
   "execution_count": null,
   "id": "469a2be7-4b20-4f8f-8128-540ae12715ad",
   "metadata": {},
   "outputs": [],
   "source": []
  },
  {
   "cell_type": "code",
   "execution_count": null,
   "id": "b820400d-70c5-41b0-8cb1-309d6e475d3b",
   "metadata": {},
   "outputs": [],
   "source": []
  },
  {
   "cell_type": "code",
   "execution_count": null,
   "id": "5c8a8ee4-4978-4ed2-b71e-55cc611e6409",
   "metadata": {},
   "outputs": [],
   "source": []
  },
  {
   "cell_type": "code",
   "execution_count": null,
   "id": "53a68a6e-0201-400c-9477-6494a4ee1093",
   "metadata": {},
   "outputs": [],
   "source": []
  },
  {
   "cell_type": "code",
   "execution_count": null,
   "id": "f91ca735-31cf-4614-9991-60bb43f1b7d9",
   "metadata": {},
   "outputs": [],
   "source": []
  },
  {
   "cell_type": "code",
   "execution_count": null,
   "id": "9dfcd04a-8ccc-46ee-8b65-9b4e0ad8e746",
   "metadata": {},
   "outputs": [],
   "source": []
  },
  {
   "cell_type": "code",
   "execution_count": null,
   "id": "9d648a74-78f8-4918-92f8-49b9884d9df3",
   "metadata": {},
   "outputs": [],
   "source": []
  },
  {
   "cell_type": "code",
   "execution_count": null,
   "id": "7e28c9ed-d44b-4a5e-85d1-2edacf92d5be",
   "metadata": {},
   "outputs": [],
   "source": []
  },
  {
   "cell_type": "code",
   "execution_count": null,
   "id": "1a3dafbe-fdb4-438a-b4f1-65e06d3cb11d",
   "metadata": {},
   "outputs": [],
   "source": []
  },
  {
   "cell_type": "code",
   "execution_count": null,
   "id": "1a97fdff-2999-4a21-a17d-a2a061de19b1",
   "metadata": {},
   "outputs": [],
   "source": []
  },
  {
   "cell_type": "code",
   "execution_count": null,
   "id": "f5f725d5-49ba-430a-af0a-d62e5ced1414",
   "metadata": {},
   "outputs": [],
   "source": []
  },
  {
   "cell_type": "code",
   "execution_count": null,
   "id": "36935082-b7dc-40df-99be-f0ce3e88f8d7",
   "metadata": {},
   "outputs": [],
   "source": []
  },
  {
   "cell_type": "code",
   "execution_count": null,
   "id": "e64d93cb-5352-4830-8050-a464f967bb79",
   "metadata": {},
   "outputs": [],
   "source": []
  },
  {
   "cell_type": "code",
   "execution_count": null,
   "id": "dc3b088c-bdd5-49ef-b66a-6e7dfea07651",
   "metadata": {},
   "outputs": [],
   "source": []
  },
  {
   "cell_type": "code",
   "execution_count": null,
   "id": "ac7a233b-7ef3-4463-9719-2e6f816a3694",
   "metadata": {},
   "outputs": [],
   "source": []
  },
  {
   "cell_type": "code",
   "execution_count": null,
   "id": "a5a7d143-3da7-4077-8d46-b9db84bdeba0",
   "metadata": {},
   "outputs": [],
   "source": []
  },
  {
   "cell_type": "code",
   "execution_count": null,
   "id": "6882c9f2-6041-4724-8ef7-7aab49b3c120",
   "metadata": {},
   "outputs": [],
   "source": []
  },
  {
   "cell_type": "code",
   "execution_count": null,
   "id": "77f9ae32-6040-4566-a8bf-0b8c72dfa10a",
   "metadata": {},
   "outputs": [],
   "source": []
  }
 ],
 "metadata": {
  "kernelspec": {
   "display_name": "houseprice",
   "language": "python",
   "name": "houseprice"
  },
  "language_info": {
   "codemirror_mode": {
    "name": "ipython",
    "version": 3
   },
   "file_extension": ".py",
   "mimetype": "text/x-python",
   "name": "python",
   "nbconvert_exporter": "python",
   "pygments_lexer": "ipython3",
   "version": "3.7.12"
  }
 },
 "nbformat": 4,
 "nbformat_minor": 5
}
